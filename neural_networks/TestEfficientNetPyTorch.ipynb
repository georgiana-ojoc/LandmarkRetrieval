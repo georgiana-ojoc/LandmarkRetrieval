{
  "nbformat": 4,
  "nbformat_minor": 0,
  "metadata": {
    "colab": {
      "name": "TestEfficientNetPyTorch.ipynb",
      "provenance": []
    },
    "kernelspec": {
      "display_name": "Python 3",
      "name": "python3"
    },
    "language_info": {
      "name": "python"
    },
    "widgets": {
      "application/vnd.jupyter.widget-state+json": {
        "2ec0eebcc8a1434b8432a7d472ca9536": {
          "model_module": "@jupyter-widgets/controls",
          "model_name": "HBoxModel",
          "model_module_version": "1.5.0",
          "state": {
            "_view_name": "HBoxView",
            "_dom_classes": [],
            "_model_name": "HBoxModel",
            "_view_module": "@jupyter-widgets/controls",
            "_model_module_version": "1.5.0",
            "_view_count": null,
            "_view_module_version": "1.5.0",
            "box_style": "",
            "layout": "IPY_MODEL_a9f3b113255c472aa2c4c81f9edde9ea",
            "_model_module": "@jupyter-widgets/controls",
            "children": [
              "IPY_MODEL_dfbeddf7fd85451a9099dcc040743c58",
              "IPY_MODEL_b64842a002224a09b3fdb933810f9327",
              "IPY_MODEL_de8362e5cd884a73a56c9580f1939663"
            ]
          }
        },
        "a9f3b113255c472aa2c4c81f9edde9ea": {
          "model_module": "@jupyter-widgets/base",
          "model_name": "LayoutModel",
          "model_module_version": "1.2.0",
          "state": {
            "_view_name": "LayoutView",
            "grid_template_rows": null,
            "right": null,
            "justify_content": null,
            "_view_module": "@jupyter-widgets/base",
            "overflow": null,
            "_model_module_version": "1.2.0",
            "_view_count": null,
            "flex_flow": null,
            "width": null,
            "min_width": null,
            "border": null,
            "align_items": null,
            "bottom": null,
            "_model_module": "@jupyter-widgets/base",
            "top": null,
            "grid_column": null,
            "overflow_y": null,
            "overflow_x": null,
            "grid_auto_flow": null,
            "grid_area": null,
            "grid_template_columns": null,
            "flex": null,
            "_model_name": "LayoutModel",
            "justify_items": null,
            "grid_row": null,
            "max_height": null,
            "align_content": null,
            "visibility": null,
            "align_self": null,
            "height": null,
            "min_height": null,
            "padding": null,
            "grid_auto_rows": null,
            "grid_gap": null,
            "max_width": null,
            "order": null,
            "_view_module_version": "1.2.0",
            "grid_template_areas": null,
            "object_position": null,
            "object_fit": null,
            "grid_auto_columns": null,
            "margin": null,
            "display": null,
            "left": null
          }
        },
        "dfbeddf7fd85451a9099dcc040743c58": {
          "model_module": "@jupyter-widgets/controls",
          "model_name": "HTMLModel",
          "model_module_version": "1.5.0",
          "state": {
            "_view_name": "HTMLView",
            "style": "IPY_MODEL_580ea5c944bf42c896da12eeb7483e69",
            "_dom_classes": [],
            "description": "",
            "_model_name": "HTMLModel",
            "placeholder": "​",
            "_view_module": "@jupyter-widgets/controls",
            "_model_module_version": "1.5.0",
            "value": "100%",
            "_view_count": null,
            "_view_module_version": "1.5.0",
            "description_tooltip": null,
            "_model_module": "@jupyter-widgets/controls",
            "layout": "IPY_MODEL_4bef79d18bdd4efc87aa30e717691a71"
          }
        },
        "b64842a002224a09b3fdb933810f9327": {
          "model_module": "@jupyter-widgets/controls",
          "model_name": "FloatProgressModel",
          "model_module_version": "1.5.0",
          "state": {
            "_view_name": "ProgressView",
            "style": "IPY_MODEL_ac1fea88bd0e428ab88240e7da443f09",
            "_dom_classes": [],
            "description": "",
            "_model_name": "FloatProgressModel",
            "bar_style": "success",
            "max": 49388949,
            "_view_module": "@jupyter-widgets/controls",
            "_model_module_version": "1.5.0",
            "value": 49388949,
            "_view_count": null,
            "_view_module_version": "1.5.0",
            "orientation": "horizontal",
            "min": 0,
            "description_tooltip": null,
            "_model_module": "@jupyter-widgets/controls",
            "layout": "IPY_MODEL_5155227410d64f95ac5bfa4e02569d8d"
          }
        },
        "de8362e5cd884a73a56c9580f1939663": {
          "model_module": "@jupyter-widgets/controls",
          "model_name": "HTMLModel",
          "model_module_version": "1.5.0",
          "state": {
            "_view_name": "HTMLView",
            "style": "IPY_MODEL_338e6b8945a64bfbbc54d148c6deffac",
            "_dom_classes": [],
            "description": "",
            "_model_name": "HTMLModel",
            "placeholder": "​",
            "_view_module": "@jupyter-widgets/controls",
            "_model_module_version": "1.5.0",
            "value": " 47.1M/47.1M [00:00&lt;00:00, 106MB/s]",
            "_view_count": null,
            "_view_module_version": "1.5.0",
            "description_tooltip": null,
            "_model_module": "@jupyter-widgets/controls",
            "layout": "IPY_MODEL_089ca0f3525d46b3879cb977c08e9e49"
          }
        },
        "580ea5c944bf42c896da12eeb7483e69": {
          "model_module": "@jupyter-widgets/controls",
          "model_name": "DescriptionStyleModel",
          "model_module_version": "1.5.0",
          "state": {
            "_view_name": "StyleView",
            "_model_name": "DescriptionStyleModel",
            "description_width": "",
            "_view_module": "@jupyter-widgets/base",
            "_model_module_version": "1.5.0",
            "_view_count": null,
            "_view_module_version": "1.2.0",
            "_model_module": "@jupyter-widgets/controls"
          }
        },
        "4bef79d18bdd4efc87aa30e717691a71": {
          "model_module": "@jupyter-widgets/base",
          "model_name": "LayoutModel",
          "model_module_version": "1.2.0",
          "state": {
            "_view_name": "LayoutView",
            "grid_template_rows": null,
            "right": null,
            "justify_content": null,
            "_view_module": "@jupyter-widgets/base",
            "overflow": null,
            "_model_module_version": "1.2.0",
            "_view_count": null,
            "flex_flow": null,
            "width": null,
            "min_width": null,
            "border": null,
            "align_items": null,
            "bottom": null,
            "_model_module": "@jupyter-widgets/base",
            "top": null,
            "grid_column": null,
            "overflow_y": null,
            "overflow_x": null,
            "grid_auto_flow": null,
            "grid_area": null,
            "grid_template_columns": null,
            "flex": null,
            "_model_name": "LayoutModel",
            "justify_items": null,
            "grid_row": null,
            "max_height": null,
            "align_content": null,
            "visibility": null,
            "align_self": null,
            "height": null,
            "min_height": null,
            "padding": null,
            "grid_auto_rows": null,
            "grid_gap": null,
            "max_width": null,
            "order": null,
            "_view_module_version": "1.2.0",
            "grid_template_areas": null,
            "object_position": null,
            "object_fit": null,
            "grid_auto_columns": null,
            "margin": null,
            "display": null,
            "left": null
          }
        },
        "ac1fea88bd0e428ab88240e7da443f09": {
          "model_module": "@jupyter-widgets/controls",
          "model_name": "ProgressStyleModel",
          "model_module_version": "1.5.0",
          "state": {
            "_view_name": "StyleView",
            "_model_name": "ProgressStyleModel",
            "description_width": "",
            "_view_module": "@jupyter-widgets/base",
            "_model_module_version": "1.5.0",
            "_view_count": null,
            "_view_module_version": "1.2.0",
            "bar_color": null,
            "_model_module": "@jupyter-widgets/controls"
          }
        },
        "5155227410d64f95ac5bfa4e02569d8d": {
          "model_module": "@jupyter-widgets/base",
          "model_name": "LayoutModel",
          "model_module_version": "1.2.0",
          "state": {
            "_view_name": "LayoutView",
            "grid_template_rows": null,
            "right": null,
            "justify_content": null,
            "_view_module": "@jupyter-widgets/base",
            "overflow": null,
            "_model_module_version": "1.2.0",
            "_view_count": null,
            "flex_flow": null,
            "width": null,
            "min_width": null,
            "border": null,
            "align_items": null,
            "bottom": null,
            "_model_module": "@jupyter-widgets/base",
            "top": null,
            "grid_column": null,
            "overflow_y": null,
            "overflow_x": null,
            "grid_auto_flow": null,
            "grid_area": null,
            "grid_template_columns": null,
            "flex": null,
            "_model_name": "LayoutModel",
            "justify_items": null,
            "grid_row": null,
            "max_height": null,
            "align_content": null,
            "visibility": null,
            "align_self": null,
            "height": null,
            "min_height": null,
            "padding": null,
            "grid_auto_rows": null,
            "grid_gap": null,
            "max_width": null,
            "order": null,
            "_view_module_version": "1.2.0",
            "grid_template_areas": null,
            "object_position": null,
            "object_fit": null,
            "grid_auto_columns": null,
            "margin": null,
            "display": null,
            "left": null
          }
        },
        "338e6b8945a64bfbbc54d148c6deffac": {
          "model_module": "@jupyter-widgets/controls",
          "model_name": "DescriptionStyleModel",
          "model_module_version": "1.5.0",
          "state": {
            "_view_name": "StyleView",
            "_model_name": "DescriptionStyleModel",
            "description_width": "",
            "_view_module": "@jupyter-widgets/base",
            "_model_module_version": "1.5.0",
            "_view_count": null,
            "_view_module_version": "1.2.0",
            "_model_module": "@jupyter-widgets/controls"
          }
        },
        "089ca0f3525d46b3879cb977c08e9e49": {
          "model_module": "@jupyter-widgets/base",
          "model_name": "LayoutModel",
          "model_module_version": "1.2.0",
          "state": {
            "_view_name": "LayoutView",
            "grid_template_rows": null,
            "right": null,
            "justify_content": null,
            "_view_module": "@jupyter-widgets/base",
            "overflow": null,
            "_model_module_version": "1.2.0",
            "_view_count": null,
            "flex_flow": null,
            "width": null,
            "min_width": null,
            "border": null,
            "align_items": null,
            "bottom": null,
            "_model_module": "@jupyter-widgets/base",
            "top": null,
            "grid_column": null,
            "overflow_y": null,
            "overflow_x": null,
            "grid_auto_flow": null,
            "grid_area": null,
            "grid_template_columns": null,
            "flex": null,
            "_model_name": "LayoutModel",
            "justify_items": null,
            "grid_row": null,
            "max_height": null,
            "align_content": null,
            "visibility": null,
            "align_self": null,
            "height": null,
            "min_height": null,
            "padding": null,
            "grid_auto_rows": null,
            "grid_gap": null,
            "max_width": null,
            "order": null,
            "_view_module_version": "1.2.0",
            "grid_template_areas": null,
            "object_position": null,
            "object_fit": null,
            "grid_auto_columns": null,
            "margin": null,
            "display": null,
            "left": null
          }
        }
      }
    }
  },
  "cells": [
    {
      "cell_type": "code",
      "metadata": {
        "id": "1JXPYfNLu9rJ"
      },
      "source": [
        "from google.colab import drive\n",
        "\n",
        "drive._mount('/content/gdrive')"
      ],
      "execution_count": null,
      "outputs": []
    },
    {
      "cell_type": "code",
      "metadata": {
        "id": "7gpDIFibV2RP"
      },
      "source": [
        "!unzip \"/content/gdrive/My Drive/testing.zip\" -d \"/content\""
      ],
      "execution_count": null,
      "outputs": []
    },
    {
      "cell_type": "code",
      "metadata": {
        "id": "ARuF8qM2SHR2"
      },
      "source": [
        "!pip install efficientnet_pytorch"
      ],
      "execution_count": null,
      "outputs": []
    },
    {
      "cell_type": "code",
      "metadata": {
        "id": "lRhW2JYIZyE6"
      },
      "source": [
        "from efficientnet_pytorch import EfficientNet\n",
        "import torch\n",
        "\n",
        "def get_model():\n",
        "    model = EfficientNet.from_pretrained('efficientnet-b3')\n",
        "    model.load_state_dict(torch.load('/content/gdrive/My Drive/models/best_model_8_validation_accuracy=0.8764.pt',\n",
        "                                     map_location=torch.device('cpu')))\n",
        "    model.eval()\n",
        "    return model"
      ],
      "execution_count": null,
      "outputs": []
    },
    {
      "cell_type": "code",
      "metadata": {
        "id": "jhXY7n7rN7Y2"
      },
      "source": [
        "import torchvision.transforms as transforms\n",
        "\n",
        "def get_transformations():\n",
        "  return transforms.Compose([transforms.Resize((224, 224)),\n",
        "                             transforms.ToTensor(),\n",
        "                             transforms.Normalize(mean=[0.485, 0.456, 0.406], \n",
        "                                                  std=[0.229, 0.224, 0.225])\n",
        "                             ])"
      ],
      "execution_count": null,
      "outputs": []
    },
    {
      "cell_type": "code",
      "metadata": {
        "id": "X-oXmKZVekLx"
      },
      "source": [
        "from pandas import read_csv\n",
        "\n",
        "def get_landmarks():\n",
        "    landmarks = read_csv('/content/gdrive/My Drive/landmarks with enough images.csv')['landmark']\n",
        "    landmarks = landmarks.apply(str)\n",
        "    return landmarks.sort_values().to_numpy()"
      ],
      "execution_count": null,
      "outputs": []
    },
    {
      "cell_type": "code",
      "metadata": {
        "id": "q8Aj3vZvQS3n"
      },
      "source": [
        "from PIL import Image\n",
        "\n",
        "def get_image(path):\n",
        "    return Image.open(path)"
      ],
      "execution_count": null,
      "outputs": []
    },
    {
      "cell_type": "code",
      "metadata": {
        "id": "l6j7xRXCNjzM"
      },
      "source": [
        "def get_transformed_image(image, transformations):\n",
        "    return transformations(image).unsqueeze(axis=0)"
      ],
      "execution_count": null,
      "outputs": []
    },
    {
      "cell_type": "code",
      "metadata": {
        "id": "fcrI4y4vOWVV"
      },
      "source": [
        "import json\n",
        "import numpy\n",
        "import torch\n",
        "\n",
        "def get_predictions(model, landmarks, image):\n",
        "    with torch.no_grad():\n",
        "        predictions = model(image)[0]\n",
        "    predictions -= torch.min(predictions)\n",
        "    best_predictions, indices = torch.topk(predictions, 3)\n",
        "    best_predictions = best_predictions / torch.sum(best_predictions) * 100\n",
        "    best_predictions = best_predictions.detach().numpy()\n",
        "    result = []\n",
        "    for index in range(3):\n",
        "        result += [{\n",
        "            \"images\": [f\"https://landmark-retrieval.s3.eu-central-1.amazonaws.com/{landmarks[indices[index]]}/{image}.jpg\" \n",
        "                       for image in range(10)],\n",
        "            \"probability\": str(best_predictions[index])\n",
        "        }]\n",
        "    return json.dumps(result)"
      ],
      "execution_count": null,
      "outputs": []
    },
    {
      "cell_type": "code",
      "metadata": {
        "colab": {
          "base_uri": "https://localhost:8080/",
          "height": 85,
          "referenced_widgets": [
            "2ec0eebcc8a1434b8432a7d472ca9536",
            "a9f3b113255c472aa2c4c81f9edde9ea",
            "dfbeddf7fd85451a9099dcc040743c58",
            "b64842a002224a09b3fdb933810f9327",
            "de8362e5cd884a73a56c9580f1939663",
            "580ea5c944bf42c896da12eeb7483e69",
            "4bef79d18bdd4efc87aa30e717691a71",
            "ac1fea88bd0e428ab88240e7da443f09",
            "5155227410d64f95ac5bfa4e02569d8d",
            "338e6b8945a64bfbbc54d148c6deffac",
            "089ca0f3525d46b3879cb977c08e9e49"
          ]
        },
        "id": "SNgCndjI7-qN",
        "outputId": "caae9ef6-2970-4a47-a380-ce966f29f026"
      },
      "source": [
        "model = get_model()\n",
        "transformations = get_transformations()\n",
        "landmarks = get_landmarks()"
      ],
      "execution_count": null,
      "outputs": [
        {
          "output_type": "stream",
          "name": "stderr",
          "text": [
            "Downloading: \"https://github.com/lukemelas/EfficientNet-PyTorch/releases/download/1.0/efficientnet-b3-5fb5a3c3.pth\" to /root/.cache/torch/hub/checkpoints/efficientnet-b3-5fb5a3c3.pth\n"
          ]
        },
        {
          "output_type": "display_data",
          "data": {
            "application/vnd.jupyter.widget-view+json": {
              "model_id": "2ec0eebcc8a1434b8432a7d472ca9536",
              "version_minor": 0,
              "version_major": 2
            },
            "text/plain": [
              "  0%|          | 0.00/47.1M [00:00<?, ?B/s]"
            ]
          },
          "metadata": {}
        },
        {
          "output_type": "stream",
          "name": "stdout",
          "text": [
            "Loaded pretrained weights for efficientnet-b3\n"
          ]
        }
      ]
    },
    {
      "cell_type": "code",
      "metadata": {
        "colab": {
          "base_uri": "https://localhost:8080/",
          "height": 109
        },
        "id": "YnQHiVqIPlCq",
        "outputId": "641e31c3-06e6-44e2-97bc-084b3401b866"
      },
      "source": [
        "image = get_transformed_image(get_image('/content/testing/100230/09578c3160d0af20.jpg'), \n",
        "                              transformations)\n",
        "get_predictions(model, landmarks, image)"
      ],
      "execution_count": null,
      "outputs": [
        {
          "output_type": "execute_result",
          "data": {
            "application/vnd.google.colaboratory.intrinsic+json": {
              "type": "string"
            },
            "text/plain": [
              "'[{\"images\": [\"https://landmark-retrieval.s3.eu-central-1.amazonaws.com/100230/0.jpg\", \"https://landmark-retrieval.s3.eu-central-1.amazonaws.com/100230/1.jpg\", \"https://landmark-retrieval.s3.eu-central-1.amazonaws.com/100230/2.jpg\", \"https://landmark-retrieval.s3.eu-central-1.amazonaws.com/100230/3.jpg\", \"https://landmark-retrieval.s3.eu-central-1.amazonaws.com/100230/4.jpg\", \"https://landmark-retrieval.s3.eu-central-1.amazonaws.com/100230/5.jpg\", \"https://landmark-retrieval.s3.eu-central-1.amazonaws.com/100230/6.jpg\", \"https://landmark-retrieval.s3.eu-central-1.amazonaws.com/100230/7.jpg\", \"https://landmark-retrieval.s3.eu-central-1.amazonaws.com/100230/8.jpg\", \"https://landmark-retrieval.s3.eu-central-1.amazonaws.com/100230/9.jpg\"], \"probability\": \"40.75535\"}, {\"images\": [\"https://landmark-retrieval.s3.eu-central-1.amazonaws.com/13471/0.jpg\", \"https://landmark-retrieval.s3.eu-central-1.amazonaws.com/13471/1.jpg\", \"https://landmark-retrieval.s3.eu-central-1.amazonaws.com/13471/2.jpg\", \"https://landmark-retrieval.s3.eu-central-1.amazonaws.com/13471/3.jpg\", \"https://landmark-retrieval.s3.eu-central-1.amazonaws.com/13471/4.jpg\", \"https://landmark-retrieval.s3.eu-central-1.amazonaws.com/13471/5.jpg\", \"https://landmark-retrieval.s3.eu-central-1.amazonaws.com/13471/6.jpg\", \"https://landmark-retrieval.s3.eu-central-1.amazonaws.com/13471/7.jpg\", \"https://landmark-retrieval.s3.eu-central-1.amazonaws.com/13471/8.jpg\", \"https://landmark-retrieval.s3.eu-central-1.amazonaws.com/13471/9.jpg\"], \"probability\": \"29.852114\"}, {\"images\": [\"https://landmark-retrieval.s3.eu-central-1.amazonaws.com/76393/0.jpg\", \"https://landmark-retrieval.s3.eu-central-1.amazonaws.com/76393/1.jpg\", \"https://landmark-retrieval.s3.eu-central-1.amazonaws.com/76393/2.jpg\", \"https://landmark-retrieval.s3.eu-central-1.amazonaws.com/76393/3.jpg\", \"https://landmark-retrieval.s3.eu-central-1.amazonaws.com/76393/4.jpg\", \"https://landmark-retrieval.s3.eu-central-1.amazonaws.com/76393/5.jpg\", \"https://landmark-retrieval.s3.eu-central-1.amazonaws.com/76393/6.jpg\", \"https://landmark-retrieval.s3.eu-central-1.amazonaws.com/76393/7.jpg\", \"https://landmark-retrieval.s3.eu-central-1.amazonaws.com/76393/8.jpg\", \"https://landmark-retrieval.s3.eu-central-1.amazonaws.com/76393/9.jpg\"], \"probability\": \"29.392544\"}]'"
            ]
          },
          "metadata": {},
          "execution_count": 11
        }
      ]
    },
    {
      "cell_type": "code",
      "metadata": {
        "id": "VVqpOET09w4b"
      },
      "source": [
        "!pip install pytorch-ignite"
      ],
      "execution_count": null,
      "outputs": []
    },
    {
      "cell_type": "code",
      "metadata": {
        "colab": {
          "base_uri": "https://localhost:8080/",
          "height": 35
        },
        "id": "Tkupq-Cn8mUN",
        "outputId": "d2e8c528-f2fa-4d33-9be6-f150f0e9df89"
      },
      "source": [
        "use_cuda = torch.cuda.is_available()\n",
        "device = torch.device('cuda' if use_cuda else 'cpu')\n",
        "device.type"
      ],
      "execution_count": null,
      "outputs": [
        {
          "data": {
            "application/vnd.google.colaboratory.intrinsic+json": {
              "type": "string"
            },
            "text/plain": [
              "'cuda'"
            ]
          },
          "execution_count": 13,
          "metadata": {},
          "output_type": "execute_result"
        }
      ]
    },
    {
      "cell_type": "code",
      "metadata": {
        "id": "54gtwn6K_XaN"
      },
      "source": [
        "from torch.utils.data import DataLoader\n",
        "from torchvision.datasets import ImageFolder\n",
        "\n",
        "def create_data_loader(folder, transformations, use_cuda, batch_size=32, \n",
        "                       shuffle=False):\n",
        "  if folder is None or transformations is None: \n",
        "      return None\n",
        "  if use_cuda:\n",
        "    arguments = {\n",
        "        'num_workers': 1,\n",
        "        'pin_memory': True\n",
        "        }\n",
        "  else:\n",
        "    arguments = {}\n",
        "  return DataLoader(ImageFolder(folder, transform=transformations), \n",
        "                    batch_size=batch_size, shuffle=shuffle, **arguments)"
      ],
      "execution_count": null,
      "outputs": []
    },
    {
      "cell_type": "code",
      "metadata": {
        "id": "_OEmHGFx_Am1"
      },
      "source": [
        "testing_data_loader = create_data_loader('/content/testing', transformations,\n",
        "                                         use_cuda)"
      ],
      "execution_count": null,
      "outputs": []
    },
    {
      "cell_type": "code",
      "metadata": {
        "colab": {
          "background_save": true,
          "base_uri": "https://localhost:8080/"
        },
        "id": "0I-yLGH1742b",
        "outputId": "21ca093c-7e09-47ea-a2eb-643bc5c1e8b1"
      },
      "source": [
        "from ignite.engine import create_supervised_evaluator\n",
        "from ignite.metrics import Accuracy, Loss\n",
        "from torch.nn import CrossEntropyLoss\n",
        "metrics = {\n",
        "    'accuracy': Accuracy(), \n",
        "    'loss': Loss(CrossEntropyLoss()),\n",
        "}\n",
        "testing_evaluator = create_supervised_evaluator(model.to(device), metrics=metrics,\n",
        "                                                device=device)\n",
        "testing_evaluator.run(testing_data_loader)\n",
        "metrics = testing_evaluator.state.metrics\n",
        "print(f'Testing loss: {metrics[\"loss\"]:.3f} and '\n",
        "        f'accuracy: {metrics[\"accuracy\"]:.3f} ')"
      ],
      "execution_count": null,
      "outputs": [
        {
          "name": "stdout",
          "output_type": "stream",
          "text": [
            "Testing loss: 0.534 and accuracy: 0.873 \n"
          ]
        }
      ]
    }
  ]
}